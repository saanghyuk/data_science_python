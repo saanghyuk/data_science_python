{
 "cells": [
  {
   "cell_type": "code",
   "execution_count": 1,
   "metadata": {},
   "outputs": [],
   "source": [
    "import numpy as np"
   ]
  },
  {
   "cell_type": "markdown",
   "metadata": {},
   "source": [
    "Gradient Descent를 시각적으로 봐보자. "
   ]
  },
  {
   "cell_type": "code",
   "execution_count": 2,
   "metadata": {},
   "outputs": [],
   "source": [
    "def prediction(theta_0, theta_1, x):\n",
    "    \"\"\"주어진 학습 데이터 벡터 x에 대해서 모든 예측 값을 벡터로 리턴하는 함수\"\"\"\n",
    "    return theta_0 + x * theta_1"
   ]
  },
  {
   "cell_type": "code",
   "execution_count": 3,
   "metadata": {},
   "outputs": [],
   "source": [
    "def prediction_difference(theta_0, theta_1, x, y):\n",
    "    \"\"\"모든 예측 값들과 목표 변수들의 오차를 벡터로 리턴해주는 함수\"\"\"\n",
    "    return prediction(theta_0, theta_1, x) - y    "
   ]
  },
  {
   "cell_type": "code",
   "execution_count": 4,
   "metadata": {},
   "outputs": [],
   "source": [
    "def gradient_descent(theta_0, theta_1, x, y, iterations, alpha):\n",
    "    m = len(x)\n",
    "    cost_list = [] # 경사 하강 한번 할 때마다, 그 시점에서의 cost()\n",
    "    \n",
    "    \"\"\"주어진 theta_0, theta_1 변수들을 경사 하강를 하면서 업데이트 해주는 함수\"\"\"\n",
    "    for _ in range(iterations):  # 정해진 번만큼 경사 하강을 한다\n",
    "        error = prediction_difference(theta_0, theta_1, x, y)  # 예측값들과 입력 변수들의 오차를 계산\n",
    "        theta_0 = theta_0 - alpha*(error.mean()) \n",
    "        theta_1 = theta_1 - alpha*((error*x).mean())\n",
    "        \n",
    "    return theta_0, theta_1"
   ]
  },
  {
   "cell_type": "code",
   "execution_count": null,
   "metadata": {},
   "outputs": [],
   "source": [
    "# 입력 변수(집 크기) 초기화 (모든 집 평수 데이터를 1/10 크기로 줄임)\n",
    "house_size = np.array([0.9, 1.4, 2, 2.1, 2.6, 3.3, 3.35, 3.9, 4.4, 4.7, 5.2, 5.75, 6.7, 6.9])\n",
    "# 목표 변수(집 가격) 초기화 (모든 집 값 데이터를 1/10 크기로 줄임)\n",
    "house_price = np.array([0.3, 0.75, 0.45, 1.1, 1.45, 0.9, 1.8, 0.9, 1.5, 2.2, 1.75, 2.3, 2.49, 2.6])\n",
    "\n",
    "# theta 값들 초기화 (아무 값이나 시작함)\n",
    "theta_0 = 2.5\n",
    "theta_1 = 0\n",
    "\n",
    "# 학습률 0.1로 200번 경사 하강\n",
    "theta_0, theta_1 = gradient_descent(theta_0, theta_1, house_size, house_price, 200, 0.1)\n",
    "\n",
    "theta_0, theta_1\n",
    "    "
   ]
  },
  {
   "cell_type": "code",
   "execution_count": null,
   "metadata": {},
   "outputs": [],
   "source": []
  }
 ],
 "metadata": {
  "kernelspec": {
   "display_name": "Python 3",
   "language": "python",
   "name": "python3"
  },
  "language_info": {
   "codemirror_mode": {
    "name": "ipython",
    "version": 3
   },
   "file_extension": ".py",
   "mimetype": "text/x-python",
   "name": "python",
   "nbconvert_exporter": "python",
   "pygments_lexer": "ipython3",
   "version": "3.8.5"
  }
 },
 "nbformat": 4,
 "nbformat_minor": 4
}
