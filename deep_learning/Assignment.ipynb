{
 "cells": [
  {
   "cell_type": "markdown",
   "metadata": {},
   "source": [
    "### 가중치와 편향 초기화"
   ]
  },
  {
   "cell_type": "code",
   "execution_count": 1,
   "metadata": {},
   "outputs": [],
   "source": [
    "neurons_per_layer = [10, 5, 5, 3]"
   ]
  },
  {
   "cell_type": "code",
   "execution_count": 19,
   "metadata": {},
   "outputs": [
    {
     "data": {
      "text/plain": [
       "{'W1': array([[ 0.22213732, -0.06183368,  0.28965512,  0.68111966, -0.10471657,\n",
       "         -0.10470923,  0.70624544,  0.34320724, -0.20995533,  0.24264023],\n",
       "        [-0.20724669, -0.20828068,  0.10820882, -0.85564494, -0.77140671,\n",
       "         -0.25146263, -0.45295185,  0.14053568, -0.40608071, -0.63160142],\n",
       "        [ 0.65545806, -0.10097023,  0.03019953, -0.63716676, -0.24345536,\n",
       "          0.04960609, -0.51473998,  0.16801726, -0.26861379, -0.13044941],\n",
       "        [-0.26909138,  0.82836399, -0.00603614, -0.47302271,  0.36785327,\n",
       "         -0.54597788,  0.09340664, -0.87639112, -0.59398286,  0.08803902],\n",
       "        [ 0.33025229,  0.07663823, -0.05171948, -0.13465767, -0.66121514,\n",
       "         -0.32192412, -0.20600392,  0.47275943,  0.15367077, -0.78845553]]),\n",
       " 'b1': array([ 0.14493476, -0.17221403, -0.30272872,  0.27354995,  0.461077  ]),\n",
       " 'W2': array([[ 0.41648113, -0.37530949, -0.13828398,  0.14814551,  0.43627704],\n",
       "        [-0.21429323, -0.08302922, -0.49476804, -0.53495987,  0.36337259],\n",
       "        [ 0.60652898, -0.03220391,  0.44879356,  0.16172855, -0.28850632],\n",
       "        [ 0.16162103,  0.68783086, -0.01602189,  0.69972991, -1.17158563],\n",
       "        [ 0.36756597,  0.03892863, -0.13372015,  0.04103667, -0.88886784]]),\n",
       " 'b2': array([-0.09824025,  0.1597056 ,  0.66093431, -0.23177749, -0.36156933]),\n",
       " 'W3': array([[-0.28968956,  0.52850766,  0.18980454, -0.3058572 ,  0.29633509],\n",
       "        [ 0.05604775,  0.55924745, -0.40533054, -0.18917583, -0.22638375],\n",
       "        [-0.84496075,  0.17096512,  0.15072033,  0.00295226, -0.13543894]]),\n",
       " 'b3': array([-0.81716468, -0.24285969, -0.19786632])}"
      ]
     },
     "execution_count": 19,
     "metadata": {},
     "output_type": "execute_result"
    }
   ],
   "source": [
    "# 필요한 도구 임포트\n",
    "import numpy as np\n",
    "\n",
    "\n",
    "# numpy 임의성 조절\n",
    "np.random.seed(42)\n",
    "\n",
    "def initialize_parameters(neurons_per_layer):\n",
    "    \"\"\"신경망의 가중치와 편향을 초기화해주는 함수\"\"\"\n",
    "    L = len(neurons_per_layer) - 1  # 층 개수 저장\n",
    "    parameters = {}\n",
    "    \n",
    "        # 1층 부터 L층까지 돌면서 가중치와 편향 초기화\n",
    "    for l in range(1, L+1): \n",
    "        parameters['W' + str(l)] = np.sqrt(1/neurons_per_layer[l])*np.random.randn(neurons_per_layer[l], neurons_per_layer[l-1])\n",
    "        parameters['b' + str(l)] = np.sqrt(1/neurons_per_layer[l])*np.random.randn(neurons_per_layer[l])\n",
    "        \n",
    "    return parameters\n",
    "\n",
    "# 실행 코드\n",
    "neurons_per_layer = [10, 5, 5, 3]\n",
    "initialize_parameters(neurons_per_layer)\n",
    "\n"
   ]
  },
  {
   "cell_type": "code",
   "execution_count": 21,
   "metadata": {},
   "outputs": [
    {
     "name": "stdout",
     "output_type": "stream",
     "text": [
      "1\n",
      "2\n"
     ]
    }
   ],
   "source": [
    "for i in range(1, 3):\n",
    "    print(i)"
   ]
  },
  {
   "cell_type": "code",
   "execution_count": null,
   "metadata": {},
   "outputs": [],
   "source": []
  }
 ],
 "metadata": {
  "kernelspec": {
   "display_name": "Python 3",
   "language": "python",
   "name": "python3"
  },
  "language_info": {
   "codemirror_mode": {
    "name": "ipython",
    "version": 3
   },
   "file_extension": ".py",
   "mimetype": "text/x-python",
   "name": "python",
   "nbconvert_exporter": "python",
   "pygments_lexer": "ipython3",
   "version": "3.8.5"
  }
 },
 "nbformat": 4,
 "nbformat_minor": 4
}
